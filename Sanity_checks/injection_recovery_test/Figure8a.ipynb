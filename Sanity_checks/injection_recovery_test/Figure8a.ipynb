{
 "cells": [
  {
   "cell_type": "markdown",
   "metadata": {},
   "source": [
    "# Injection-recovery test ($\\Delta\\log_{10}\\text{BF}$ Vs $e_0$)"
   ]
  },
  {
   "cell_type": "code",
   "execution_count": 2,
   "metadata": {},
   "outputs": [],
   "source": [
    "import numpy as np\n",
    "import bilby\n",
    "import gwpy\n",
    "import corner\n",
    "import h5py\n",
    "import matplotlib.pyplot as plt\n",
    "from scipy.interpolate import CubicSpline, interp1d\n",
    "from scipy.optimize import fsolve"
   ]
  },
  {
   "cell_type": "markdown",
   "metadata": {},
   "source": [
    "## Fetching data \n"
   ]
  },
  {
   "cell_type": "code",
   "execution_count": 3,
   "metadata": {},
   "outputs": [],
   "source": [
    "# TaylorF2Ecck \n",
    "# e0=0.01\n",
    "result = bilby.result.read_in_result(\"../injection_recover_PE_results/GW190425_Ecck_e0_0p01_data0_1126259642-413_analysis_H1L1_result.hdf5\")\n",
    "ecck_0p01 = result.log_10_bayes_factor\n",
    "# e0=0.05\n",
    "result = bilby.result.read_in_result(\"../injection_recover_PE_results/GW190425_Ecck_e0_0p05_data0_1126259642-413_analysis_H1L1_result.hdf5\")\n",
    "ecck_0p05 = result.log_10_bayes_factor\n",
    "# e0=0.07\n",
    "result = bilby.result.read_in_result(\"../injection_recover_PE_results/GW190425_Ecck_e0_0p07_data0_1126259642-413_analysis_H1L1_result.hdf5\")\n",
    "ecck_0p07 = result.log_10_bayes_factor\n",
    "# e0=0.10\n",
    "result = bilby.result.read_in_result(\"../injection_recover_PE_results/GW190425_Ecck_e0_0p1_data0_1126259642-413_analysis_H1L1_result.hdf5\")\n",
    "ecck_0p10 = result.log_10_bayes_factor\n",
    "\n",
    "# TaylorF2\n",
    "# e0=0.01\n",
    "result = bilby.result.read_in_result(\"../injection_recover_PE_results/GW190425_TF2_e0_0p01_data0_1126259642-413_analysis_H1L1_result.hdf5\")\n",
    "tf2_0p01 = result.log_10_bayes_factor\n",
    "# e0=0.05\n",
    "result = bilby.result.read_in_result(\"../injection_recover_PE_results/GW190425_TF2_e0_0p05_data0_1126259642-413_analysis_H1L1_result.hdf5\")\n",
    "tf2_0p05 = result.log_10_bayes_factor\n",
    "# e0=0.07\n",
    "result = bilby.result.read_in_result(\"../injection_recover_PE_results/GW190425_TF2_e0_0p07_data0_1126259642-413_analysis_H1L1_result.hdf5\")\n",
    "tf2_0p07 = result.log_10_bayes_factor\n",
    "# e0=0.10\n",
    "result = bilby.result.read_in_result(\"../injection_recover_PE_results/GW190425_TF2_e0_0p1_data0_1126259642-413_analysis_H1L1_result.hdf5\")\n",
    "tf2_0p1 = result.log_10_bayes_factor"
   ]
  },
  {
   "cell_type": "code",
   "execution_count": 4,
   "metadata": {},
   "outputs": [
    {
     "data": {
      "text/plain": [
       "(array([-1.41015944, 26.73102795, 41.19590248, 57.85762289]),\n",
       " array([0.01, 0.05, 0.07, 0.1 ]))"
      ]
     },
     "execution_count": 4,
     "metadata": {},
     "output_type": "execute_result"
    }
   ],
   "source": [
    "# TaylorF2Ecck vs TaylorF2\n",
    "bf_tf2 = np.array([ecck_0p01-tf2_0p01, ecck_0p05-tf2_0p05, ecck_0p07-tf2_0p07, ecck_0p10-tf2_0p1])\n",
    "e0_tf2 = np.array([0.01, 0.05, 0.07, 0.1])\n",
    "bf_tf2, e0_tf2"
   ]
  },
  {
   "cell_type": "code",
   "execution_count": 5,
   "metadata": {},
   "outputs": [
    {
     "name": "stdout",
     "output_type": "stream",
     "text": [
      "e0 spline at bf = 2: 0.015541722694762264\n"
     ]
    }
   ],
   "source": [
    "# curve fitting\n",
    "# fit spline\n",
    "# TaylorF2Ecck vs TaylorF2\n",
    "cs_tf2 = CubicSpline(e0_tf2, bf_tf2, extrapolate=True)\n",
    "e0_spline_tf2 = fsolve(lambda x: cs_tf2(x) - 2, 0.05)[0]\n",
    "print(f\"e0 spline at bf = 2: {e0_spline_tf2}\")"
   ]
  },
  {
   "cell_type": "code",
   "execution_count": 7,
   "metadata": {},
   "outputs": [
    {
     "data": {
      "image/png": "[encoded data removed]",
      "text/plain": [
       "<Figure size 400x400 with 1 Axes>"
      ]
     },
     "metadata": {},
     "output_type": "display_data"
    }
   ],
   "source": [
    "e0_array2 = np.geomspace(0.001, 0.06, 500)\n",
    "\n",
    "# Setup the figure\n",
    "plt.rcParams.update({\n",
    "    \"text.usetex\": True,\n",
    "    \"font.family\": \"serif\",\n",
    "    \"font.serif\": [\"Computer Modern Roman\"],\n",
    "    \"font.size\": 12\n",
    "})\n",
    "plt.figure(figsize=(4, 4))\n",
    "plt.plot(e0_array2, cs_tf2(e0_array2), label='Ecck Vs TF2', color='C2', alpha=0.8)\n",
    "\n",
    "# Labeling the first plot\n",
    "plt.xlabel(r\"$e_0$\", fontdict={'fontsize': 12})\n",
    "plt.ylabel(r'$\\Delta$log$_{10}{\\rm BF}$', labelpad=0, fontdict={'fontsize': 12})\n",
    "\n",
    "legend = plt.legend(handlelength=2, loc='lower right', bbox_to_anchor=(1.0, 0.0), frameon=True, fontsize=12, edgecolor='lightgray')\n",
    "# # rounded box for legend\n",
    "legend.get_frame().set_boxstyle('Round', pad=0.0, rounding_size=0.2)\n",
    "# Modify line width for legend entries\n",
    "for handle in legend.get_lines():\n",
    "    handle.set_linewidth(2)\n",
    "    handle.set_alpha(0.8)\n",
    "\n",
    "# horizontal lines\n",
    "plt.axhline(y=2.0, color='#1B1833', linestyle='--', linewidth=1, alpha=0.6)\n",
    "plt.text(0.025, 2.0+0.5, r'$\\Delta$log$_{10}$BF=2', color='#1B1833', fontsize=12, alpha=0.9)\n",
    "plt.axhline(y=1.0, color='#1B1833', linestyle='--', linewidth=1, alpha=0.6)\n",
    "plt.text(0.025, 1.0-0.45, r'$\\Delta$log$_{10}$BF=1', color='#1B1833', fontsize=12, alpha=0.9)\n",
    "\n",
    "# vertical lines\n",
    "plt.axvline(x=e0_spline_tf2, color='#1B1833', linestyle='--', linewidth=1, alpha=0.6)\n",
    "plt.text(e0_spline_tf2+0.002, 0.025, rf'$e_0={e0_spline_tf2:.3f}$', color='#1B1833', fontsize=12, alpha=0.9, rotation=90)\n",
    "\n",
    "plt.xlim(0.005, 0.06)\n",
    "plt.ylim(0.01, 100.0)\n",
    "plt.yscale('log')\n",
    "\n",
    "plt.grid(True, alpha=0.4)\n",
    "plt.tight_layout()\n",
    "plt.savefig('./bf_vs_eccn_tf2_GW190425.pdf')\n",
    "plt.show()"
   ]
  },
  {
   "cell_type": "code",
   "execution_count": null,
   "metadata": {},
   "outputs": [],
   "source": []
  },
  {
   "cell_type": "code",
   "execution_count": null,
   "metadata": {},
   "outputs": [],
   "source": []
  }
 ],
 "metadata": {
  "kernelspec": {
   "display_name": "ler",
   "language": "python",
   "name": "ler"
  },
  "language_info": {
   "codemirror_mode": {
    "name": "ipython",
    "version": 3
   },
   "file_extension": ".py",
   "mimetype": "text/x-python",
   "name": "python",
   "nbconvert_exporter": "python",
   "pygments_lexer": "ipython3",
   "version": "3.10.14"
  }
 },
 "nbformat": 4,
 "nbformat_minor": 2
}
