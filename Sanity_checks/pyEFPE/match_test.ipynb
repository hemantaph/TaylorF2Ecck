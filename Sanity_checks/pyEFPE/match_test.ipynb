{
 "cells": [
  {
   "cell_type": "code",
   "execution_count": 4,
   "metadata": {},
   "outputs": [],
   "source": [
    "import os\n",
    "from pycbc.filter.matchedfilter import match\n",
    "from pycbc.types.frequencyseries import FrequencySeries\n",
    "import numpy as np\n",
    "import bilby\n",
    "import pyEFPE\n",
    "import matplotlib.pyplot as plt\n",
    "from tqdm import tqdm\n",
    "%matplotlib inline\n",
    "\n",
    "C = 299792458.\n",
    "G = 6.67408*1e-11\n",
    "Mo = 1.989*1e30\n",
    "Mpc = 3.086*1e22"
   ]
  },
  {
   "cell_type": "markdown",
   "metadata": {},
   "source": [
    "## Set up the parameters"
   ]
  },
  {
   "cell_type": "code",
   "execution_count": 5,
   "metadata": {},
   "outputs": [],
   "source": [
    "Gamma = 0.5772156649015329\n",
    "Pi = np.pi\n",
    "MTSUN_SI = 4.925491025543576e-06\n",
    "\n",
    "def findchirp_chirptime(m1, m2, fmin):\n",
    "    \"\"\"\n",
    "    Time taken from f_min to f_lso (last stable orbit). 3.5PN in fourier phase considered.\n",
    "\n",
    "    Parameters\n",
    "    ----------\n",
    "    m1 : `float`\n",
    "        Mass of the first body in solar masses.\n",
    "    m2 : `float`\n",
    "        Mass of the second body in solar masses.\n",
    "    fmin : `float`\n",
    "        Lower frequency cutoff.\n",
    "\n",
    "    Returns\n",
    "    -------\n",
    "    chirp_time : float\n",
    "        Time taken from f_min to f_lso (last stable orbit frequency).\n",
    "    \"\"\"\n",
    "\n",
    "    # variables used to compute chirp time\n",
    "    m = m1 + m2\n",
    "    eta = m1 * m2 / m / m\n",
    "    c0T = c2T = c3T = c4T = c5T = c6T = c6LogT = c7T = 0.0\n",
    "\n",
    "    c7T = Pi * (\n",
    "        14809.0 * eta * eta / 378.0 - 75703.0 * eta / 756.0 - 15419335.0 / 127008.0\n",
    "    )\n",
    "\n",
    "    c6T = (\n",
    "        Gamma * 6848.0 / 105.0\n",
    "        - 10052469856691.0 / 23471078400.0\n",
    "        + Pi * Pi * 128.0 / 3.0\n",
    "        + eta * (3147553127.0 / 3048192.0 - Pi * Pi * 451.0 / 12.0)\n",
    "        - eta * eta * 15211.0 / 1728.0\n",
    "        + eta * eta * eta * 25565.0 / 1296.0\n",
    "        + eta * eta * eta * 25565.0 / 1296.0\n",
    "        + np.log(4.0) * 6848.0 / 105.0\n",
    "    )\n",
    "    c6LogT = 6848.0 / 105.0\n",
    "\n",
    "    c5T = 13.0 * Pi * eta / 3.0 - 7729.0 * Pi / 252.0\n",
    "\n",
    "    c4T = 3058673.0 / 508032.0 + eta * (5429.0 / 504.0 + eta * 617.0 / 72.0)\n",
    "    c3T = -32.0 * Pi / 5.0\n",
    "    c2T = 743.0 / 252.0 + eta * 11.0 / 3.0\n",
    "    c0T = 5.0 * m * MTSUN_SI / (256.0 * eta)\n",
    "\n",
    "    # This is the PN parameter v evaluated at the lower freq. cutoff\n",
    "    xT = np.power(Pi * m * MTSUN_SI * fmin, 1.0 / 3.0)\n",
    "    x2T = xT * xT\n",
    "    x3T = xT * x2T\n",
    "    x4T = x2T * x2T\n",
    "    x5T = x2T * x3T\n",
    "    x6T = x3T * x3T\n",
    "    x7T = x3T * x4T\n",
    "    x8T = x4T * x4T\n",
    "\n",
    "    # Computes the chirp time as tC = t(v_low)\n",
    "    # tC = t(v_low) - t(v_upper) would be more\n",
    "    # correct, but the difference is negligble.\n",
    "    return (\n",
    "        c0T\n",
    "        * (\n",
    "            1\n",
    "            + c2T * x2T\n",
    "            + c3T * x3T\n",
    "            + c4T * x4T\n",
    "            + c5T * x5T\n",
    "            + (c6T + c6LogT * np.log(xT)) * x6T\n",
    "            + c7T * x7T\n",
    "        )\n",
    "        / x8T\n",
    "    )"
   ]
  },
  {
   "cell_type": "code",
   "execution_count": null,
   "metadata": {},
   "outputs": [],
   "source": [
    "time_of_event = 1126259642.413\n",
    "post_trigger_duration = 1.\n",
    "duration = 309.0\n",
    "analysis_start = time_of_event + post_trigger_duration - duration\n",
    "sampling_frequency = 2048.\n",
    "f_min = 20.0\n",
    "\n",
    "injection_parameters = {'mass_1':1.61, 'mass_2':1.18, 'eccentricity':0.0, 'a_1':0., 'a_2':0., 'tilt_1':0., 'tilt_2':0., 'phi_12':0., 'phi_jl':0., 'luminosity_distance':38.87, 'theta_jn':2.52, 'psi':0., 'phase':0.}\n",
    "\n",
    "mass_1_ = injection_parameters['mass_1']\n",
    "mass_2_ = injection_parameters['mass_2']\n",
    "#f_max = 128.\n",
    "f_max = (C**3)/( G*(mass_1_+mass_2_)*Mo*np.pi*6**(3/2) )"
   ]
  },
  {
   "cell_type": "markdown",
   "metadata": {},
   "source": [
    "## Set up pyEFPE waveform"
   ]
  },
  {
   "cell_type": "code",
   "execution_count": null,
   "metadata": {},
   "outputs": [],
   "source": [
    "pyEFPE.pyEFPE?"
   ]
  },
  {
   "cell_type": "code",
   "execution_count": 40,
   "metadata": {},
   "outputs": [],
   "source": [
    "\n",
    "def waveform_generator5(parameters, frequency_array, f_min=20.0):\n",
    "    \n",
    "    params = {\n",
    "    'mass1': parameters['mass_1'],       # Mass of companion 1 (solar masses)\n",
    "    'mass2': parameters['mass_2'],       # Mass of companion 2 (solar masses)\n",
    "    'e_start': parameters['eccentricity'],     # Initial eccentricity\n",
    "    'spin1x': 0.,\n",
    "    'spin1y': 0.,\n",
    "    'spin1z': 0.,\n",
    "    'spin2x': 0.,    # Spin components of companion 2\n",
    "    'spin2y': 0.,\n",
    "    'spin2z': 0.,\n",
    "    'distance': parameters['luminosity_distance'], # Luminosity distance (Mpc)\n",
    "    'inclination': parameters['theta_jn'],# Initial binary inclination (radians)\n",
    "    'f22_start': f_min,    # Starting (simulation) waveform frequency of GW 22 mode (Hz)\n",
    "    #'f22_end': f_max,  # Ending frequency of GW 22 mode (Hz)\n",
    "    'phi_start': parameters['phase'], # Initial phase of the binary (radians)\n",
    "    }\n",
    "    # Initialize pyEFPE waveform model\n",
    "    wf = pyEFPE.pyEFPE(params)\n",
    "\n",
    "    # Compute frequency-domain gravitational wave polarizations\n",
    "    hp, hc = wf.generate_waveform(frequency_array)\n",
    "\n",
    "    return {'plus': hp, 'cross': hc}"
   ]
  },
  {
   "cell_type": "markdown",
   "metadata": {},
   "source": [
    "## Set up other waveforms"
   ]
  },
  {
   "cell_type": "code",
   "execution_count": 48,
   "metadata": {},
   "outputs": [
    {
     "name": "stderr",
     "output_type": "stream",
     "text": [
      "15:50 bilby INFO    : Waveform generator initiated with\n",
      "  frequency_domain_source_model: bilby.gw.source.lal_eccentric_binary_black_hole_no_spins\n",
      "  time_domain_source_model: None\n",
      "  parameter_conversion: bilby.gw.conversion.convert_to_lal_binary_black_hole_parameters\n",
      "15:50 bilby INFO    : Waveform generator initiated with\n",
      "  frequency_domain_source_model: bilby.gw.source.lal_eccentric_binary_black_hole_no_spins\n",
      "  time_domain_source_model: None\n",
      "  parameter_conversion: bilby.gw.conversion.convert_to_lal_binary_black_hole_parameters\n",
      "15:50 bilby INFO    : Waveform generator initiated with\n",
      "  frequency_domain_source_model: bilby.gw.source.lal_eccentric_binary_black_hole_no_spins\n",
      "  time_domain_source_model: None\n",
      "  parameter_conversion: bilby.gw.conversion.convert_to_lal_binary_black_hole_parameters\n",
      "15:50 bilby INFO    : Waveform generator initiated with\n",
      "  frequency_domain_source_model: bilby.gw.source.lal_eccentric_binary_black_hole_no_spins\n",
      "  time_domain_source_model: None\n",
      "  parameter_conversion: bilby.gw.conversion.convert_to_lal_binary_black_hole_parameters\n"
     ]
    }
   ],
   "source": [
    "############# TF2Ecck waveform model ################\n",
    "waveform_arguments1 = dict(waveform_approximant='TaylorF2Ecck',\n",
    "                          reference_frequency=f_min, minimum_frequency=f_min)\n",
    "\n",
    "waveform_generator1 = bilby.gw.WaveformGenerator(\n",
    "    duration=duration, sampling_frequency=sampling_frequency,\n",
    "    frequency_domain_source_model=bilby.gw.source.lal_eccentric_binary_black_hole_no_spins,\n",
    "    parameters=injection_parameters, waveform_arguments=waveform_arguments1)\n",
    "\n",
    "############# TF2Ecch waveform model ################\n",
    "waveform_arguments2 = dict(waveform_approximant='TaylorF2Ecch',\n",
    "                          reference_frequency=f_min, minimum_frequency=f_min)\n",
    "\n",
    "waveform_generator2 = bilby.gw.WaveformGenerator(\n",
    "    duration=duration, sampling_frequency=sampling_frequency,\n",
    "    frequency_domain_source_model=bilby.gw.source.lal_eccentric_binary_black_hole_no_spins,\n",
    "    parameters=injection_parameters, waveform_arguments=waveform_arguments2)\n",
    "\n",
    "############# TF2Ecc waveform model ################\n",
    "waveform_arguments3 = dict(waveform_approximant='TaylorF2Ecc',\n",
    "                          reference_frequency=f_min, minimum_frequency=f_min, pn_phase_order=7, pn_tidal_order=0)\n",
    "\n",
    "waveform_generator3 = bilby.gw.WaveformGenerator(\n",
    "    duration=duration, sampling_frequency=sampling_frequency,\n",
    "    frequency_domain_source_model=bilby.gw.source.lal_eccentric_binary_black_hole_no_spins,\n",
    "    parameters=injection_parameters, waveform_arguments=waveform_arguments3)\n",
    "\n",
    "############# TaylorF2 waveform model ################\n",
    "waveform_arguments4 = dict(waveform_approximant='TaylorF2',\n",
    "                          reference_frequency=f_min, minimum_frequency=f_min, pn_phase_order=7, pn_amplitude_order=0, pn_tidal_order=0)\n",
    "\n",
    "waveform_generator4 = bilby.gw.WaveformGenerator(\n",
    "    duration=duration, sampling_frequency=sampling_frequency,\n",
    "    frequency_domain_source_model=bilby.gw.source.lal_eccentric_binary_black_hole_no_spins,\n",
    "    parameters=injection_parameters, waveform_arguments=waveform_arguments4)\n",
    "\n",
    "ifos = bilby.gw.detector.InterferometerList(['L1'])\n",
    "ifos.set_strain_data_from_zero_noise(\n",
    "    sampling_frequency=sampling_frequency, duration=duration,\n",
    "    start_time=analysis_start)"
   ]
  },
  {
   "cell_type": "markdown",
   "metadata": {},
   "source": [
    "## Initial check with pyEFPE and TaylorF2 (3.5PN order)"
   ]
  },
  {
   "cell_type": "code",
   "execution_count": 46,
   "metadata": {},
   "outputs": [
    {
     "data": {
      "text/plain": [
       "(0.9647350280801859, 632826)"
      ]
     },
     "execution_count": 46,
     "metadata": {},
     "output_type": "execute_result"
    }
   ],
   "source": [
    "polas_a = waveform_generator4.frequency_domain_strain(parameters = injection_parameters) # TF2Ecck\n",
    "polas_b = waveform_generator5(parameters = injection_parameters, frequency_array=waveform_generator4.frequency_array) # pyEFPE\n",
    "arr_a = FrequencySeries(polas_a['plus'], delta_f=1/duration)\n",
    "arr_b = FrequencySeries(polas_b['plus'], delta_f=1/duration)\n",
    "psd_ = FrequencySeries(ifos[0].power_spectral_density_array, delta_f=1/duration)\n",
    "match(arr_a, arr_b, psd=psd_, low_frequency_cutoff=f_min, high_frequency_cutoff=f_max)"
   ]
  },
  {
   "cell_type": "markdown",
   "metadata": {},
   "source": [
    "* pyEFPE doesn't match TaylorF2 at $e_0=0.0$"
   ]
  },
  {
   "cell_type": "markdown",
   "metadata": {},
   "source": [
    "## TaylorF2Ecck vs pyEFPE"
   ]
  },
  {
   "cell_type": "code",
   "execution_count": 91,
   "metadata": {},
   "outputs": [],
   "source": [
    "size2 = 20 # number of eccentricity values\n",
    "eccn_array = np.linspace(0.0,0.15,size2)"
   ]
  },
  {
   "cell_type": "code",
   "execution_count": 92,
   "metadata": {},
   "outputs": [],
   "source": [
    "create_new = True\n",
    "if (not os.path.exists('match_array_15_pyEFPE.npy')) or create_new:\n",
    "    mass_1_ = 1.61\n",
    "    mass_2_ = 1.18\n",
    "    #f_max = 128.\n",
    "    f_max = (C**3)/( G*(mass_1_+mass_2_)*Mo*np.pi*6**(3/2) )\n",
    "\n",
    "    safety = 1.0\n",
    "    approx_duration = safety * findchirp_chirptime(mass_1_, mass_2_, f_min)\n",
    "    duration = np.ceil(approx_duration)\n",
    "    # duration = 309.\n",
    "\n",
    "    match_array_list = []\n",
    "    for eccn in eccn_array:\n",
    "\n",
    "        injection_parameters = {'mass_1':mass_1_, 'mass_2':mass_2_, 'eccentricity':eccn, 'a_1':0., 'a_2':0., 'tilt_1':0., 'tilt_2':0., 'phi_12':0., 'phi_jl':0., 'luminosity_distance':38.87, 'theta_jn':2.52, 'psi':3.293627, 'phase':0.}\n",
    "        \n",
    "        polas_a = waveform_generator1.frequency_domain_strain(parameters = injection_parameters) # TF2Ecck\n",
    "        polas_b = waveform_generator5(parameters = injection_parameters, frequency_array=waveform_generator1.frequency_array)\n",
    "        arr_a = FrequencySeries(polas_a['plus'], delta_f=1/duration)\n",
    "        arr_b = FrequencySeries(polas_b['plus'], delta_f=1/duration)\n",
    "        psd_ = FrequencySeries(ifos[0].power_spectral_density_array, delta_f=1/duration)\n",
    "\n",
    "        \n",
    "        match_array_list.append(match(arr_a, arr_b, psd=psd_, low_frequency_cutoff=f_min, high_frequency_cutoff=f_max))\n",
    "\n",
    "    match_array_15 = np.array(match_array_list)[:,0]\n",
    "    # save data\n",
    "    np.save('match_array_15_pyEFPE.npy', np.array(match_array_15))\n",
    "else:\n",
    "    match_array_15 = np.load('match_array_15_pyEFPE.npy')"
   ]
  },
  {
   "cell_type": "markdown",
   "metadata": {},
   "source": [
    "## TaylorF2Ecc (3.5PN order) vs pyEFPE"
   ]
  },
  {
   "cell_type": "code",
   "execution_count": 93,
   "metadata": {},
   "outputs": [],
   "source": [
    "create_new = True\n",
    "if (not os.path.exists('match_array_35_pyEFPE.npy')) or create_new:\n",
    "    mass_1_ = 1.61\n",
    "    mass_2_ = 1.18\n",
    "    #f_max = 128.\n",
    "    f_max = (C**3)/( G*(mass_1_+mass_2_)*Mo*np.pi*6**(3/2) )\n",
    "\n",
    "    safety = 1.0\n",
    "    approx_duration = safety * findchirp_chirptime(mass_1_, mass_2_, f_min)\n",
    "    duration = np.ceil(approx_duration)\n",
    "    # duration = 309.\n",
    "\n",
    "    match_array_list = []\n",
    "    for eccn in eccn_array:\n",
    "        injection_parameters = {'mass_1':mass_1_, 'mass_2':mass_2_, 'eccentricity':eccn, 'a_1':0., 'a_2':0., 'tilt_1':0., 'tilt_2':0., 'phi_12':0., 'phi_jl':0., 'luminosity_distance':38.87, 'theta_jn':2.52, 'psi':3.293627, 'phase':0.}\n",
    "        polas_a = waveform_generator3.frequency_domain_strain(parameters = injection_parameters) # TF2Ecch\n",
    "        polas_b = waveform_generator5(parameters = injection_parameters, frequency_array=waveform_generator3.frequency_array)\n",
    "        arr_a = FrequencySeries(polas_a['plus'], delta_f=1/duration)\n",
    "        arr_b = FrequencySeries(polas_b['plus'], delta_f=1/duration)\n",
    "        psd_ = FrequencySeries(ifos[0].power_spectral_density_array, delta_f=1/duration)\n",
    "        match_array_list.append(match(arr_a, arr_b, psd=psd_, low_frequency_cutoff=f_min, high_frequency_cutoff=f_max))\n",
    "    match_array_35 = np.array(match_array_list)[:,0]\n",
    "    # save data\n",
    "    np.save('match_array_35_pyEFPE.npy', np.array(match_array_35))\n",
    "else:\n",
    "    match_array_35 = np.load('match_array_35_pyEFPE.npy')\n"
   ]
  },
  {
   "cell_type": "code",
   "execution_count": 94,
   "metadata": {},
   "outputs": [
    {
     "data": {
      "image/png": "[encoded data removed]",
      "text/plain": [
       "<Figure size 400x400 with 1 Axes>"
      ]
     },
     "metadata": {},
     "output_type": "display_data"
    }
   ],
   "source": [
    "size2 = 20\n",
    "\n",
    "# Setup the figure\n",
    "plt.rcParams.update({\n",
    "    \"text.usetex\": True,\n",
    "    \"font.family\": \"serif\",\n",
    "    \"font.serif\": [\"Computer Modern Roman\"],\n",
    "    \"font.size\": 12\n",
    "})\n",
    "plt.figure(figsize=(4., 4.))\n",
    "\n",
    "# First plot (mismatch percentage)\n",
    "plt.plot(eccn_array, (1 - match_array_15) * 100, 'C0', alpha=0.8, linewidth=1)\n",
    "plt.plot(eccn_array, (1 - match_array_35) * 100, 'C1', alpha=0.8, linewidth=1)\n",
    "\n",
    "# Labeling the first plot\n",
    "plt.xlabel(r\"$e_0$\", fontdict={'fontsize': 12})\n",
    "plt.ylabel(r\"${\\cal M}^*_{\\%}$\", fontdict={'fontsize': 12})\n",
    "\n",
    "legend = plt.legend(['Ecck (3PN) vs pyEFPE', 'Ecc (3.5PN) vs pyEFPE'], handlelength=1.5, loc='lower right', bbox_to_anchor=(1.0, 0.0), frameon=True, fontsize=12, edgecolor='lightgray')\n",
    "legend.get_frame().set_boxstyle('Round', pad=0.0, rounding_size=0.2)\n",
    "# Modify line width for legend entries\n",
    "for handle in legend.get_lines():\n",
    "    handle.set_linewidth(2)\n",
    "    handle.set_alpha(0.8)\n",
    "\n",
    "plt.xlim(0.001, 0.12)\n",
    "plt.ylim(0.0, 10)\n",
    "plt.axhline(y=3.0, color='#1B1833', linestyle='--', linewidth=1, alpha=0.6)\n",
    "plt.text(0.06, 3.12, r'${\\cal M}^*_{\\%}=3$', color='#1B1833', fontsize=12, alpha=0.9)\n",
    "\n",
    "# plt.axvline(x=0.014661661290850475, color='#1B1833', linestyle='--', linewidth=1, alpha=0.6)\n",
    "# plt.text(0.014661661290850475+0.005, 1.1, r'$e_0=0.015$', color='#1B1833', fontsize=12, alpha=0.9, rotation=90)\n",
    "# plt.axvline(x=0.15944421846787388, color='#1B1833', linestyle='--', linewidth=1, alpha=0.6)\n",
    "# plt.text(0.15944421846787388+0.005, 1.1, r'$e_0=0.159$', color='#1B1833', fontsize=12, alpha=0.9, rotation=90)\n",
    "# plt.axvline(x=0.22825769595155887, color='#1B1833', linestyle='--', linewidth=1, alpha=0.6)\n",
    "# plt.text(0.22825769595155887+0.005, 1.1, r'$e_0=0.228$', color='#1B1833', fontsize=12, alpha=0.9, rotation=90)\n",
    "\n",
    "# Show the combined plot\n",
    "plt.grid(True, alpha=0.4)\n",
    "plt.tight_layout()\n",
    "# plt.savefig('./mismatch_vs_eccn.pdf')\n",
    "plt.show()"
   ]
  },
  {
   "cell_type": "markdown",
   "metadata": {},
   "source": [
    "## Remove off-set at $e_0=0.0$"
   ]
  },
  {
   "cell_type": "code",
   "execution_count": 103,
   "metadata": {},
   "outputs": [
    {
     "data": {
      "image/png": "[encoded data removed]",
      "text/plain": [
       "<Figure size 400x400 with 1 Axes>"
      ]
     },
     "metadata": {},
     "output_type": "display_data"
    }
   ],
   "source": [
    "# size2 = 20\n",
    "\n",
    "# Setup the figure\n",
    "plt.rcParams.update({\n",
    "    \"text.usetex\": True,\n",
    "    \"font.family\": \"serif\",\n",
    "    \"font.serif\": [\"Computer Modern Roman\"],\n",
    "    \"font.size\": 12\n",
    "})\n",
    "plt.figure(figsize=(4., 4.))\n",
    "\n",
    "# First plot (mismatch percentage)\n",
    "mismatch_array_15 = (1 - match_array_15) * 100\n",
    "mismatch_array_35 = (1 - match_array_35) * 100\n",
    "plt.plot(eccn_array, mismatch_array_15-mismatch_array_15[0], 'C0', alpha=0.8, linewidth=1)\n",
    "plt.plot(eccn_array,  mismatch_array_35-mismatch_array_35[0], 'C1', alpha=0.8, linewidth=1)\n",
    "\n",
    "# Labeling the first plot\n",
    "plt.xlabel(r\"$e_0$\", fontdict={'fontsize': 12})\n",
    "plt.ylabel(r\"${\\cal M}^*_{\\%}$\", fontdict={'fontsize': 12})\n",
    "\n",
    "legend = plt.legend(['Ecck (3PN) vs pyEFPE', 'Ecc (3.5PN) vs pyEFPE'], handlelength=1.5, loc='lower right', bbox_to_anchor=(1.0, 0.0), frameon=True, fontsize=12, edgecolor='lightgray')\n",
    "legend.get_frame().set_boxstyle('Round', pad=0.0, rounding_size=0.2)\n",
    "# Modify line width for legend entries\n",
    "for handle in legend.get_lines():\n",
    "    handle.set_linewidth(2)\n",
    "    handle.set_alpha(0.8)\n",
    "\n",
    "plt.xlim(0.001, 0.12)\n",
    "plt.ylim(0.0, 10)\n",
    "plt.axhline(y=3.0, color='#1B1833', linestyle='--', linewidth=1, alpha=0.6)\n",
    "plt.text(0.06, 3.12, r'${\\cal M}^*_{\\%}=3$', color='#1B1833', fontsize=12, alpha=0.9)\n",
    "\n",
    "# plt.axvline(x=0.014661661290850475, color='#1B1833', linestyle='--', linewidth=1, alpha=0.6)\n",
    "# plt.text(0.014661661290850475+0.005, 1.1, r'$e_0=0.015$', color='#1B1833', fontsize=12, alpha=0.9, rotation=90)\n",
    "# plt.axvline(x=0.15944421846787388, color='#1B1833', linestyle='--', linewidth=1, alpha=0.6)\n",
    "# plt.text(0.15944421846787388+0.005, 1.1, r'$e_0=0.159$', color='#1B1833', fontsize=12, alpha=0.9, rotation=90)\n",
    "# plt.axvline(x=0.22825769595155887, color='#1B1833', linestyle='--', linewidth=1, alpha=0.6)\n",
    "# plt.text(0.22825769595155887+0.005, 1.1, r'$e_0=0.228$', color='#1B1833', fontsize=12, alpha=0.9, rotation=90)\n",
    "\n",
    "# Show the combined plot\n",
    "plt.grid(True, alpha=0.4)\n",
    "plt.tight_layout()\n",
    "# plt.savefig('./mismatch_vs_eccn.pdf')\n",
    "plt.show()"
   ]
  },
  {
   "cell_type": "code",
   "execution_count": null,
   "metadata": {},
   "outputs": [],
   "source": []
  }
 ],
 "metadata": {
  "kernelspec": {
   "display_name": "igwn",
   "language": "python",
   "name": "python3"
  },
  "language_info": {
   "codemirror_mode": {
    "name": "ipython",
    "version": 3
   },
   "file_extension": ".py",
   "mimetype": "text/x-python",
   "name": "python",
   "nbconvert_exporter": "python",
   "pygments_lexer": "ipython3",
   "version": "3.10.17"
  }
 },
 "nbformat": 4,
 "nbformat_minor": 2
}
