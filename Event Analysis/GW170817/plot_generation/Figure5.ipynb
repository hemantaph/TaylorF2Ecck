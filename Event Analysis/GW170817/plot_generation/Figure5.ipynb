{
 "cells": [
  {
   "cell_type": "markdown",
   "metadata": {},
   "source": [
    "# GW170817: Posterior plot comparison"
   ]
  },
  {
   "cell_type": "code",
   "execution_count": 1,
   "metadata": {},
   "outputs": [],
   "source": [
    "import matplotlib.pyplot as plt\n",
    "%matplotlib inline\n",
    "import bilby\n",
    "import pandas as pd\n",
    "import numpy as np\n",
    "import seaborn as sns\n",
    "from bilby.gw.result import CBCResult\n",
    "import matplotlib.lines as mlines\n",
    "from kde_contour import Bounded_1d_kde, kdeplot_2d_clevels"
   ]
  },
  {
   "cell_type": "markdown",
   "metadata": {},
   "source": [
    "### Waveforms: TaylorF2Ecck, TaylorF2Ecc 3PN, TaylorF2Ecc 3.5PN"
   ]
  },
  {
   "cell_type": "code",
   "execution_count": 2,
   "metadata": {},
   "outputs": [],
   "source": [
    "rng = np.random.default_rng(12345)\n",
    "\n",
    "sns.set_theme(palette='colorblind', font_scale=1.5)\n",
    "\n",
    "# Ecck 3PN\n",
    "result1 = bilby.result.read_in_result(\"../result_files/ecck.hdf5\")\n",
    "chirp_mass1 = result1.posterior[\"chirp_mass\"].values\n",
    "mass_ratio1 =  result1.posterior[\"mass_ratio\"].values\n",
    "e01 = result1.posterior[\"eccentricity\"].values\n",
    "m11 = (chirp_mass1*(1+mass_ratio1)**(1/5))/mass_ratio1**(3/5)\n",
    "m21 = chirp_mass1*mass_ratio1**(2/5)*(1+mass_ratio1)**(1/5)\n",
    "mtot1 = m11 + m21\n",
    "eta1 = (m11*m21)/(mtot1**2)\n",
    "\n",
    "# Ecc 3PN\n",
    "result2 = bilby.result.read_in_result(\"../result_files/ecc3PNnospin.hdf5\")\n",
    "chirp_mass2 = result2.posterior[\"chirp_mass\"].values\n",
    "mass_ratio2 =  result2.posterior[\"mass_ratio\"].values\n",
    "e02 = result2.posterior[\"eccentricity\"].values\n",
    "m12 = (chirp_mass2*(1+mass_ratio2)**(1/5))/mass_ratio2**(3/5)\n",
    "m22 = chirp_mass2*mass_ratio2**(2/5)*(1+mass_ratio2)**(1/5)\n",
    "mtot2 = m12 + m22\n",
    "eta2 = (m12*m22)/(mtot2**2)\n",
    "\n",
    "# 8078 4423 4114 14858 28107\n",
    "nsamples = min(len(mtot1), len(mtot2))\n",
    "\n",
    "# make dataframes\n",
    "data1 = np.transpose(np.array([mtot1, eta1, e01]))\n",
    "df1 = pd.DataFrame(data1, columns=['mtot', 'eta', 'e0'])\n",
    "result_ecck = df1.sample(nsamples, random_state=rng)\n",
    "result_ecck[\"\"] = \"Ecck 3PN\"\n",
    "result_ecck['mtot'] = result_ecck['mtot']\n",
    "result_ecck[\"e0\"] = result_ecck[\"e0\"]\n",
    "result_ecck['eta'] = result_ecck['eta']\n",
    "\n",
    "data2 = np.transpose(np.array([mtot2, eta2,e02]))\n",
    "df2 = pd.DataFrame(data2, columns=['mtot', 'eta', 'e0'])\n",
    "result_ecc3PN = df2.sample(nsamples, random_state=rng)\n",
    "result_ecc3PN[\"\"] = \"Ecc 3PN\"\n",
    "result_ecc3PN[\"e0\"] = result_ecc3PN[\"e0\"]\n",
    "result_ecc3PN['mtot'] = result_ecc3PN['mtot']\n",
    "result_ecc3PN['eta'] = result_ecc3PN['eta']\n",
    "\n",
    "result = pd.concat([result_ecck, result_ecc3PN],ignore_index=True)"
   ]
  },
  {
   "cell_type": "code",
   "execution_count": 3,
   "metadata": {},
   "outputs": [
    {
     "data": {
      "text/plain": [
       "<seaborn.axisgrid.PairGrid at 0x105deefb0>"
      ]
     },
     "execution_count": 3,
     "metadata": {},
     "output_type": "execute_result"
    }
   ],
   "source": [
    "import matplotlib as mpl\n",
    "mpl.rcParams.update(mpl.rcParamsDefault)\n",
    "\n",
    "plt.rcParams.update({\n",
    "    'backend': 'Agg',\n",
    "    'savefig.dpi': 300,\n",
    "    'grid.alpha': 0.5,\n",
    "    'path.simplify': True,\n",
    "    \"text.usetex\": True,\n",
    "    \"font.family\": \"serif\",\n",
    "    \"font.serif\": [\"Computer Modern Roman\"],\n",
    "    'mathtext.fontset': 'custom',\n",
    "    'xtick.major.size': 6,\n",
    "    'ytick.major.size': 6,\n",
    "    'xtick.minor.size': 3,\n",
    "    'ytick.minor.size': 3,\n",
    "    'xtick.major.width': 1,\n",
    "    'ytick.major.width': 1,\n",
    "    'xtick.minor.width': 1,\n",
    "    'ytick.minor.width': 1,\n",
    "    'lines.markeredgewidth': 1,\n",
    "    'legend.numpoints': 1,\n",
    "    'legend.frameon': False,\n",
    "    'legend.handletextpad': 0.3\n",
    "})\n",
    "\n",
    "lw = 1\n",
    "\n",
    "def kdeplot2d(x, y, rng=12345, **kws):\n",
    "    kws.pop('label', None)\n",
    "    kdeplot_2d_clevels(xs=x, ys=y, auto_bound=True, linewidths=lw, rng=rng, **kws)\n",
    "\n",
    "def kdeplot1d(x, **kws):\n",
    "    if np.all(x.isna()):\n",
    "        return\n",
    "    for key in ['label', 'hue_order', 'color']:\n",
    "        kws.pop(key, None)\n",
    "    df = pd.DataFrame({'x': x, 'y': Bounded_1d_kde(x, xlow=min(x), xhigh=max(x), **kws)(x)})\n",
    "    df = df.sort_values(['x'])\n",
    "    plt.fill_between(df['x'], df['y'], np.zeros(len(x)), alpha=0.1)\n",
    "    plt.plot(df['x'], df['y'], lw=lw)\n",
    "    plt.xlim(df['x'].min(), df['x'].max())\n",
    "    current_ymax = plt.ylim()[1]\n",
    "    if current_ymax > df['y'].max()*1.05:\n",
    "        plt.ylim(0,current_ymax)\n",
    "    else:\n",
    "        plt.ylim(0,df['y'].max()*1.05)\n",
    "\n",
    "vars = ['mtot', 'eta', 'e0']\n",
    "g = sns.PairGrid(data=result,\n",
    "                 vars=vars,\n",
    "                 corner=True, hue=\"\",\n",
    "                 diag_sharey=False,\n",
    "                 layout_pad=0.,\n",
    "                 height=2.0,\n",
    "                )\n",
    "# 1,2,3,4 sigma\n",
    "g.map_lower(kdeplot2d, levels=[0.864,0.393])\n",
    "g.map_diag(kdeplot1d)"
   ]
  },
  {
   "cell_type": "code",
   "execution_count": 5,
   "metadata": {},
   "outputs": [],
   "source": [
    "g.axes[2, 2].tick_params(axis='x', rotation=45, pad=1)\n",
    "g.axes[2, 1].tick_params(axis='x', rotation=45, pad=1)\n",
    "g.axes[2, 0].tick_params(axis='x', rotation=45, pad=1)\n",
    "g.axes[2, 0].tick_params(axis='y', rotation=45, pad=1)\n",
    "g.axes[1, 0].tick_params(axis='y', rotation=45, pad=1)\n",
    "\n",
    "g.axes[2, 0].xaxis.set_major_formatter(plt.FuncFormatter(lambda x, _: '%.3f' % x))\n",
    "g.axes[2, 1].xaxis.set_major_formatter(plt.FuncFormatter(lambda x, _: '%.3f' % x))\n",
    "g.axes[2, 2].xaxis.set_major_formatter(plt.FuncFormatter(lambda x, _: '%.3f' % x))\n",
    "g.axes[2, 0].yaxis.set_major_formatter(plt.FuncFormatter(lambda x, _: '%.3f' % x))\n",
    "g.axes[1, 0].yaxis.set_major_formatter(plt.FuncFormatter(lambda x, _: '%.3f' % x))  \n",
    "\n",
    "g.axes[2,0].set_xlabel(r'$m$', labelpad=1, fontsize=12)\n",
    "g.axes[1,0].set_ylabel(r'$\\eta$', labelpad=1, fontsize=12)\n",
    "g.axes[2,1].set_xlabel(r'$\\eta$', labelpad=1, fontsize=12)\n",
    "g.axes[2,0].set_ylabel(r'$e_0$', labelpad=1, fontsize=12)\n",
    "g.axes[2,2].set_xlabel(r'$e_0$', labelpad=1, fontsize=12)\n",
    "\n",
    "g.axes[2,0].set_xlim(2.764, 2.813)\n",
    "g.axes[2,0].set_ylim(0.001, 0.0099)\n",
    "g.axes[2,2].set_xlim(0.001, 0.0099)\n",
    "#\n",
    "g.axes[2,1].set_xlim(0.241, 0.248)\n",
    "g.axes[1,0].set_ylim(0.241, 0.248)\n",
    "\n",
    "# add grid\n",
    "for i in range(3):\n",
    "    for j in range(3):\n",
    "        if g.axes[i, j] is not None:\n",
    "            g.axes[i, j].grid(True, which=\"both\", ls=\"-\", alpha=0.5)\n",
    "\n",
    "# add legend with line colors\n",
    "blue_line = mlines.Line2D([], [], color='C0', label='Ecck 3PN', linewidth=1)\n",
    "orange_line = mlines.Line2D([], [], color='C1', label='Ecc 3PN', linewidth=1)\n",
    "handles = [blue_line, orange_line]\n",
    "labels = [h.get_label() for h in handles] \n",
    "g.fig.legend(handles=handles, labels=labels, bbox_to_anchor=(0., 0.9, 0.9, .0), ncol=1) # Adjust loc and ncol as needed\n",
    "\n",
    "g.savefig(\"GW170817_mtot_eta_e0.pdf\", bbox_inches=\"tight\", dpi=300)\n",
    "g.savefig(\"GW170817_mtot_eta_e0.svg\", bbox_inches=\"tight\", dpi=300)\n",
    "plt.show()"
   ]
  },
  {
   "cell_type": "markdown",
   "metadata": {},
   "source": [
    "* You don't see the $\\eta$ vs $m$ contour because the KDE is too narrow.\n",
    "\n",
    "* The contour plots of $e_0$ vs $m$ and $e_0$ vs $\\eta$ are later crop out using `Affinity Designer` software and create the Figure 5."
   ]
  },
  {
   "cell_type": "markdown",
   "metadata": {},
   "source": []
  }
 ],
 "metadata": {
  "kernelspec": {
   "display_name": "ler",
   "language": "python",
   "name": "ler"
  },
  "language_info": {
   "codemirror_mode": {
    "name": "ipython",
    "version": 3
   },
   "file_extension": ".py",
   "mimetype": "text/x-python",
   "name": "python",
   "nbconvert_exporter": "python",
   "pygments_lexer": "ipython3",
   "version": "3.10.14"
  }
 },
 "nbformat": 4,
 "nbformat_minor": 2
}
