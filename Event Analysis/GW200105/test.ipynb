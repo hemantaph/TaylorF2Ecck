{
 "cells": [
  {
   "cell_type": "code",
   "execution_count": 1,
   "metadata": {},
   "outputs": [],
   "source": [
    "import matplotlib.pyplot as plt\n",
    "%matplotlib inline\n",
    "import bilby\n",
    "import pandas as pd\n",
    "import numpy as np\n",
    "import corner"
   ]
  },
  {
   "cell_type": "code",
   "execution_count": null,
   "metadata": {},
   "outputs": [],
   "source": [
    "rng = np.random.default_rng(12345)\n",
    "\n",
    "# sns.set_theme(palette='colorblind', font_scale=1.5)\n",
    "\n",
    "# 8078 4423 4114 14858 28107\n",
    "nsamples = 4114\n",
    "\n",
    "# TaylorF2Ecck (3PN)\n",
    "result1 = bilby.result.read_in_result(\"/Users/phurailatpamhemantakumar/phd/mypackages/TaylorF2Ecck/Event Analysis/GW200105/result_files/TF2Ecck_3PN_CIT_final.hdf5\")\n",
    "chirp_mass1 = result1.posterior['chirp_mass'].values\n",
    "mass_ratio1 = result1.posterior['mass_ratio'].values\n",
    "eccentricity1 = result1.posterior['eccentricity'].values\n",
    "data1 = pd.DataFrame({'chirp_mass': chirp_mass1, 'mass_ratio': mass_ratio1, 'eccentricity': eccentricity1})"
   ]
  },
  {
   "cell_type": "code",
   "execution_count": null,
   "metadata": {},
   "outputs": [],
   "source": [
    "# log10 bayes factor\n",
    "result1.log_10_bayes_factor,"
   ]
  }
 ],
 "metadata": {
  "kernelspec": {
   "display_name": "igwn",
   "language": "python",
   "name": "python3"
  },
  "language_info": {
   "codemirror_mode": {
    "name": "ipython",
    "version": 3
   },
   "file_extension": ".py",
   "mimetype": "text/x-python",
   "name": "python",
   "nbconvert_exporter": "python",
   "pygments_lexer": "ipython3",
   "version": "3.10.17"
  }
 },
 "nbformat": 4,
 "nbformat_minor": 2
}
